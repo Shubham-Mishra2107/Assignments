{
 "cells": [
  {
   "cell_type": "code",
   "execution_count": 6,
   "id": "7ebae5bf",
   "metadata": {},
   "outputs": [
    {
     "data": {
      "text/plain": [
       "'\\nAnswer: The primary goal of OOP is to model real-world entities using classes and objects, \\nencouraging code reusability, modularity, and maintainability by organizing software around data and behaviors.\\n'"
      ]
     },
     "execution_count": 6,
     "metadata": {},
     "output_type": "execute_result"
    }
   ],
   "source": [
    "# Q1. What is the primary goal of Object-Oriented Programming (OOP)?\n",
    "\"\"\"\n",
    "Answer: The primary goal of OOP is to model real-world entities using classes and objects, \n",
    "encouraging code reusability, modularity, and maintainability by organizing software around data and behaviors.\n",
    "\"\"\""
   ]
  },
  {
   "cell_type": "code",
   "execution_count": 7,
   "id": "fda122cd",
   "metadata": {},
   "outputs": [
    {
     "data": {
      "text/plain": [
       "'\\nAn object in Python is an instance of a class. It contains both data (attributes) \\nand functions (methods) that operate on the data.\\n'"
      ]
     },
     "execution_count": 7,
     "metadata": {},
     "output_type": "execute_result"
    }
   ],
   "source": [
    "# Q2. What is an object in Python?\n",
    "\"\"\"\n",
    "An object in Python is an instance of a class. It contains both data (attributes) \n",
    "and functions (methods) that operate on the data.\n",
    "\"\"\""
   ]
  },
  {
   "cell_type": "code",
   "execution_count": 8,
   "id": "ec435639",
   "metadata": {},
   "outputs": [
    {
     "data": {
      "text/plain": [
       "'\\nA class in Python is a blueprint for creating objects. It defines attributes and methods \\nthat the objects created from the class will have.\\n'"
      ]
     },
     "execution_count": 8,
     "metadata": {},
     "output_type": "execute_result"
    }
   ],
   "source": [
    "# Q3. What is a class in Python?\n",
    "\"\"\"\n",
    "A class in Python is a blueprint for creating objects. It defines attributes and methods \n",
    "that the objects created from the class will have.\n",
    "\"\"\""
   ]
  },
  {
   "cell_type": "code",
   "execution_count": 9,
   "id": "68cf7e89",
   "metadata": {},
   "outputs": [
    {
     "data": {
      "text/plain": [
       "'\\nAttributes are variables that store the state of an object, and methods are functions defined inside a class \\nthat describe the behaviors of an object.\\n'"
      ]
     },
     "execution_count": 9,
     "metadata": {},
     "output_type": "execute_result"
    }
   ],
   "source": [
    "# Q4. What are attributes and methods in a class?\n",
    "\"\"\"\n",
    "Attributes are variables that store the state of an object, and methods are functions defined inside a class \n",
    "that describe the behaviors of an object.\n",
    "\"\"\""
   ]
  },
  {
   "cell_type": "code",
   "execution_count": 10,
   "id": "85180da9",
   "metadata": {},
   "outputs": [
    {
     "data": {
      "text/plain": [
       "'\\nClass variables are shared across all instances of a class, whereas instance variables are unique to each object.\\n'"
      ]
     },
     "execution_count": 10,
     "metadata": {},
     "output_type": "execute_result"
    }
   ],
   "source": [
    "# Q5. What is the difference between class variables and instance variables in Python?\n",
    "\"\"\"\n",
    "Class variables are shared across all instances of a class, whereas instance variables are unique to each object.\n",
    "\"\"\""
   ]
  },
  {
   "cell_type": "code",
   "execution_count": 11,
   "id": "49e7d26b",
   "metadata": {},
   "outputs": [
    {
     "data": {
      "text/plain": [
       "\"\\nThe 'self' parameter refers to the current instance of the class and is used to access variables and methods \\nassociated with the object.\\n\""
      ]
     },
     "execution_count": 11,
     "metadata": {},
     "output_type": "execute_result"
    }
   ],
   "source": [
    "# Q6. What is the purpose of the self parameter in Python class methods?\n",
    "\"\"\"\n",
    "The 'self' parameter refers to the current instance of the class and is used to access variables and methods \n",
    "associated with the object.\n",
    "\"\"\""
   ]
  },
  {
   "cell_type": "code",
   "execution_count": 12,
   "id": "4cd3c4ea",
   "metadata": {},
   "outputs": [],
   "source": [
    "# Q7. Book class for Library Management System\n",
    "class Book:\n",
    "    def __init__(self, title, author, isbn, publication_year, available_copies):\n",
    "        self.title = title\n",
    "        self.author = author\n",
    "        self.isbn = isbn\n",
    "        self.publication_year = publication_year\n",
    "        self.available_copies = available_copies\n",
    "\n",
    "    def check_out(self):\n",
    "        if self.available_copies > 0:\n",
    "            self.available_copies -= 1\n",
    "            print(f\"Book '{self.title}' checked out.\")\n",
    "        else:\n",
    "            print(\"No copies available to check out.\")\n",
    "\n",
    "    def return_book(self):\n",
    "        self.available_copies += 1\n",
    "        print(f\"Book '{self.title}' returned.\")\n",
    "\n",
    "    def display_book_info(self):\n",
    "        print(f\"Title: {self.title}\\nAuthor: {self.author}\\nISBN: {self.isbn}\\n\"\n",
    "              f\"Publication Year: {self.publication_year}\\nAvailable Copies: {self.available_copies}\")\n"
   ]
  },
  {
   "cell_type": "code",
   "execution_count": 13,
   "id": "8b37f591",
   "metadata": {},
   "outputs": [],
   "source": [
    "# Q8. Ticket class for Ticket Booking System\n",
    "class Ticket:\n",
    "    def __init__(self, ticket_id, event_name, event_date, venue, seat_number, price):\n",
    "        self.ticket_id = ticket_id\n",
    "        self.event_name = event_name\n",
    "        self.event_date = event_date\n",
    "        self.venue = venue\n",
    "        self.seat_number = seat_number\n",
    "        self.price = price\n",
    "        self.is_reserved = False\n",
    "\n",
    "    def reserve_ticket(self):\n",
    "        if not self.is_reserved:\n",
    "            self.is_reserved = True\n",
    "            print(f\"Ticket {self.ticket_id} reserved.\")\n",
    "        else:\n",
    "            print(\"Ticket is already reserved.\")\n",
    "\n",
    "    def cancel_reservation(self):\n",
    "        if self.is_reserved:\n",
    "            self.is_reserved = False\n",
    "            print(f\"Reservation for ticket {self.ticket_id} cancelled.\")\n",
    "        else:\n",
    "            print(\"Ticket is not reserved.\")\n",
    "\n",
    "    def display_ticket_info(self):\n",
    "        print(f\"Ticket ID: {self.ticket_id}\\nEvent: {self.event_name}\\nDate: {self.event_date}\\n\"\n",
    "              f\"Venue: {self.venue}\\nSeat: {self.seat_number}\\nPrice: {self.price}\\nReserved: {self.is_reserved}\")\n"
   ]
  },
  {
   "cell_type": "code",
   "execution_count": 14,
   "id": "c269ef9d",
   "metadata": {},
   "outputs": [],
   "source": [
    "# Q9. ShoppingCart class for e-commerce site\n",
    "class ShoppingCart:\n",
    "    def __init__(self):\n",
    "        self.items = []\n",
    "\n",
    "    def add_item(self, item):\n",
    "        self.items.append(item)\n",
    "        print(f\"Item '{item}' added to cart.\")\n",
    "\n",
    "    def remove_item(self, item):\n",
    "        if item in self.items:\n",
    "            self.items.remove(item)\n",
    "            print(f\"Item '{item}' removed from cart.\")\n",
    "        else:\n",
    "            print(\"Item not found in cart.\")\n",
    "\n",
    "    def view_cart(self):\n",
    "        if not self.items:\n",
    "            print(\"Cart is empty.\")\n",
    "        else:\n",
    "            print(\"Items in cart:\", self.items)\n",
    "\n",
    "    def clear_cart(self):\n",
    "        self.items = []\n",
    "        print(\"Cart cleared.\")"
   ]
  },
  {
   "cell_type": "code",
   "execution_count": 15,
   "id": "7258610a",
   "metadata": {},
   "outputs": [],
   "source": [
    "# Q10. Student class for School Management System\n",
    "class Student:\n",
    "    def __init__(self, name, age, grade, student_id):\n",
    "        self.name = name\n",
    "        self.age = age\n",
    "        self.grade = grade\n",
    "        self.student_id = student_id\n",
    "        self.attendance = {}\n",
    "\n",
    "    def update_attendance(self, date, status):\n",
    "        self.attendance[date] = status\n",
    "        print(f\"Attendance updated: {date} - {status}\")\n",
    "\n",
    "    def get_attendance(self):\n",
    "        return self.attendance\n",
    "\n",
    "    def get_average_attendance(self):\n",
    "        total_days = len(self.attendance)\n",
    "        present_days = sum(1 for status in self.attendance.values() if status.lower() == \"present\")\n",
    "        return (present_days / total_days) * 100 if total_days > 0 else 0\n"
   ]
  }
 ],
 "metadata": {
  "kernelspec": {
   "display_name": "Python 3 (ipykernel)",
   "language": "python",
   "name": "python3"
  },
  "language_info": {
   "codemirror_mode": {
    "name": "ipython",
    "version": 3
   },
   "file_extension": ".py",
   "mimetype": "text/x-python",
   "name": "python",
   "nbconvert_exporter": "python",
   "pygments_lexer": "ipython3",
   "version": "3.11.5"
  }
 },
 "nbformat": 4,
 "nbformat_minor": 5
}
